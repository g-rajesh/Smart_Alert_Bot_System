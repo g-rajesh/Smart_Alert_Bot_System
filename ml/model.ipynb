{
 "cells": [
  {
   "cell_type": "markdown",
   "metadata": {},
   "source": [
    "#### Predicting the category(inquiry, query, inform, request) using Machine Learning"
   ]
  },
  {
   "cell_type": "markdown",
   "metadata": {},
   "source": [
    "#### Problem Definition\n",
    "In this, we will building a machine learning model which is capable of predicting the category based on user's message"
   ]
  },
  {
   "cell_type": "code",
   "execution_count": 1,
   "metadata": {},
   "outputs": [],
   "source": [
    "import numpy as np\n",
    "import pandas as pd\n",
    "%matplotlib inline\n",
    "import matplotlib.pyplot as plt\n",
    "import seaborn as sns\n",
    "\n",
    "# sklearn model\n",
    "from sklearn.naive_bayes import MultinomialNB\n",
    "\n",
    "from sklearn.feature_extraction.text import CountVectorizer\n",
    "\n",
    "# model evaluation\n",
    "from sklearn.model_selection import train_test_split, cross_val_score\n",
    "from sklearn.metrics import confusion_matrix, classification_report\n",
    "from sklearn.metrics import accuracy_score, precision_score, recall_score, f1_score"
   ]
  },
  {
   "cell_type": "code",
   "execution_count": 2,
   "metadata": {},
   "outputs": [
    {
     "data": {
      "text/html": [
       "<div>\n",
       "<style scoped>\n",
       "    .dataframe tbody tr th:only-of-type {\n",
       "        vertical-align: middle;\n",
       "    }\n",
       "\n",
       "    .dataframe tbody tr th {\n",
       "        vertical-align: top;\n",
       "    }\n",
       "\n",
       "    .dataframe thead th {\n",
       "        text-align: right;\n",
       "    }\n",
       "</style>\n",
       "<table border=\"1\" class=\"dataframe\">\n",
       "  <thead>\n",
       "    <tr style=\"text-align: right;\">\n",
       "      <th></th>\n",
       "      <th>Message</th>\n",
       "      <th>Type</th>\n",
       "    </tr>\n",
       "  </thead>\n",
       "  <tbody>\n",
       "    <tr>\n",
       "      <th>0</th>\n",
       "      <td>why there is no power supply in my street</td>\n",
       "      <td>Inquiry</td>\n",
       "    </tr>\n",
       "    <tr>\n",
       "      <th>1</th>\n",
       "      <td>In our are we dont have power</td>\n",
       "      <td>Inquiry</td>\n",
       "    </tr>\n",
       "    <tr>\n",
       "      <th>2</th>\n",
       "      <td>we dont have power in our area</td>\n",
       "      <td>Inquiry</td>\n",
       "    </tr>\n",
       "    <tr>\n",
       "      <th>3</th>\n",
       "      <td>we dont have  electricity  In our area</td>\n",
       "      <td>Inquiry</td>\n",
       "    </tr>\n",
       "    <tr>\n",
       "      <th>4</th>\n",
       "      <td>in our area we dont have electricity</td>\n",
       "      <td>Inquiry</td>\n",
       "    </tr>\n",
       "  </tbody>\n",
       "</table>\n",
       "</div>"
      ],
      "text/plain": [
       "                                     Message     Type\n",
       "0  why there is no power supply in my street  Inquiry\n",
       "1              In our are we dont have power  Inquiry\n",
       "2             we dont have power in our area  Inquiry\n",
       "3     we dont have  electricity  In our area  Inquiry\n",
       "4       in our area we dont have electricity  Inquiry"
      ]
     },
     "execution_count": 2,
     "metadata": {},
     "output_type": "execute_result"
    }
   ],
   "source": [
    "data = pd.read_csv(\"dataset.csv\")\n",
    "\n",
    "data.head()"
   ]
  },
  {
   "cell_type": "code",
   "execution_count": 3,
   "metadata": {},
   "outputs": [
    {
     "data": {
      "text/plain": [
       "Message    0\n",
       "Type       0\n",
       "dtype: int64"
      ]
     },
     "execution_count": 3,
     "metadata": {},
     "output_type": "execute_result"
    }
   ],
   "source": [
    "data.isna().sum()"
   ]
  },
  {
   "cell_type": "code",
   "execution_count": 4,
   "metadata": {},
   "outputs": [
    {
     "data": {
      "text/plain": [
       "array(['Inquiry', 'Query', 'Inform', 'Request'], dtype=object)"
      ]
     },
     "execution_count": 4,
     "metadata": {},
     "output_type": "execute_result"
    }
   ],
   "source": [
    "data[\"Type\"].unique()"
   ]
  },
  {
   "cell_type": "code",
   "execution_count": 5,
   "metadata": {},
   "outputs": [],
   "source": [
    "data[\"Category\"] = data[\"Type\"].map({ 'Inquiry': 1, 'Query': 2, 'Inform': 3, 'Request': 4 })"
   ]
  },
  {
   "cell_type": "code",
   "execution_count": 6,
   "metadata": {},
   "outputs": [
    {
     "data": {
      "text/html": [
       "<div>\n",
       "<style scoped>\n",
       "    .dataframe tbody tr th:only-of-type {\n",
       "        vertical-align: middle;\n",
       "    }\n",
       "\n",
       "    .dataframe tbody tr th {\n",
       "        vertical-align: top;\n",
       "    }\n",
       "\n",
       "    .dataframe thead th {\n",
       "        text-align: right;\n",
       "    }\n",
       "</style>\n",
       "<table border=\"1\" class=\"dataframe\">\n",
       "  <thead>\n",
       "    <tr style=\"text-align: right;\">\n",
       "      <th></th>\n",
       "      <th>Message</th>\n",
       "      <th>Type</th>\n",
       "      <th>Category</th>\n",
       "    </tr>\n",
       "  </thead>\n",
       "  <tbody>\n",
       "    <tr>\n",
       "      <th>0</th>\n",
       "      <td>why there is no power supply in my street</td>\n",
       "      <td>Inquiry</td>\n",
       "      <td>1</td>\n",
       "    </tr>\n",
       "    <tr>\n",
       "      <th>1</th>\n",
       "      <td>In our are we dont have power</td>\n",
       "      <td>Inquiry</td>\n",
       "      <td>1</td>\n",
       "    </tr>\n",
       "    <tr>\n",
       "      <th>2</th>\n",
       "      <td>we dont have power in our area</td>\n",
       "      <td>Inquiry</td>\n",
       "      <td>1</td>\n",
       "    </tr>\n",
       "    <tr>\n",
       "      <th>3</th>\n",
       "      <td>we dont have  electricity  In our area</td>\n",
       "      <td>Inquiry</td>\n",
       "      <td>1</td>\n",
       "    </tr>\n",
       "    <tr>\n",
       "      <th>4</th>\n",
       "      <td>in our area we dont have electricity</td>\n",
       "      <td>Inquiry</td>\n",
       "      <td>1</td>\n",
       "    </tr>\n",
       "  </tbody>\n",
       "</table>\n",
       "</div>"
      ],
      "text/plain": [
       "                                     Message     Type  Category\n",
       "0  why there is no power supply in my street  Inquiry         1\n",
       "1              In our are we dont have power  Inquiry         1\n",
       "2             we dont have power in our area  Inquiry         1\n",
       "3     we dont have  electricity  In our area  Inquiry         1\n",
       "4       in our area we dont have electricity  Inquiry         1"
      ]
     },
     "execution_count": 6,
     "metadata": {},
     "output_type": "execute_result"
    }
   ],
   "source": [
    "data.head()"
   ]
  },
  {
   "cell_type": "code",
   "execution_count": 7,
   "metadata": {},
   "outputs": [],
   "source": [
    "X = data[\"Message\"]\n",
    "y = data[\"Category\"]"
   ]
  },
  {
   "cell_type": "code",
   "execution_count": 8,
   "metadata": {},
   "outputs": [],
   "source": [
    "np.random.seed(42)\n",
    "\n",
    "X_train, X_test, y_train, y_test = train_test_split(X, y, test_size=0.2)"
   ]
  },
  {
   "cell_type": "code",
   "execution_count": 9,
   "metadata": {},
   "outputs": [
    {
     "data": {
      "text/plain": [
       "((88,), (22,))"
      ]
     },
     "execution_count": 9,
     "metadata": {},
     "output_type": "execute_result"
    }
   ],
   "source": [
    "X_train.shape, X_test.shape"
   ]
  },
  {
   "cell_type": "code",
   "execution_count": 10,
   "metadata": {},
   "outputs": [],
   "source": [
    "vect = CountVectorizer(ngram_range=(2,2))\n",
    "\n",
    "X_train = vect.fit_transform(X_train)\n",
    "X_test = vect.transform(X_test)"
   ]
  },
  {
   "cell_type": "code",
   "execution_count": 11,
   "metadata": {},
   "outputs": [
    {
     "name": "stdout",
     "output_type": "stream",
     "text": [
      "  (0, 302)\t1\n",
      "  (0, 148)\t1\n",
      "  (0, 202)\t1\n",
      "  (0, 243)\t1\n",
      "  (0, 92)\t1\n",
      "  (0, 1)\t1\n",
      "  (0, 0)\t1\n",
      "  (0, 113)\t1\n",
      "  (0, 68)\t1\n",
      "  (0, 275)\t1\n",
      "  (0, 277)\t1\n",
      "  (1, 202)\t1\n",
      "  (1, 245)\t1\n",
      "  (1, 133)\t1\n",
      "  (1, 46)\t1\n",
      "  (1, 58)\t1\n",
      "  (1, 117)\t1\n",
      "  (1, 165)\t1\n",
      "  (2, 202)\t1\n",
      "  (2, 303)\t1\n",
      "  (2, 162)\t1\n"
     ]
    }
   ],
   "source": [
    "print(X_train[:3])"
   ]
  },
  {
   "cell_type": "code",
   "execution_count": 12,
   "metadata": {},
   "outputs": [
    {
     "name": "stdout",
     "output_type": "stream",
     "text": [
      "  (0, 78)\t1\n",
      "  (1, 18)\t1\n",
      "  (1, 56)\t1\n",
      "  (1, 104)\t1\n",
      "  (1, 188)\t1\n",
      "  (1, 202)\t1\n",
      "  (2, 27)\t1\n",
      "  (2, 56)\t1\n",
      "  (2, 100)\t1\n",
      "  (2, 123)\t1\n",
      "  (2, 188)\t1\n",
      "  (2, 299)\t1\n"
     ]
    }
   ],
   "source": [
    "print(X_test[:3])"
   ]
  },
  {
   "cell_type": "code",
   "execution_count": 13,
   "metadata": {},
   "outputs": [
    {
     "name": "stdout",
     "output_type": "stream",
     "text": [
      "[3 1 1 4 3 3 1 2 4 1 3 3 1 4 1 3 2 3 4 2 1 3]\n"
     ]
    }
   ],
   "source": [
    "mnb = MultinomialNB(alpha =0.2)\n",
    "\n",
    "mnb.fit(X_train,y_train)\n",
    "\n",
    "y_pred = mnb.predict(X_test)\n",
    "print(y_pred)"
   ]
  },
  {
   "cell_type": "code",
   "execution_count": 14,
   "metadata": {},
   "outputs": [
    {
     "name": "stdout",
     "output_type": "stream",
     "text": [
      "Confusion matrix\n"
     ]
    },
    {
     "data": {
      "image/png": "[encoded data removed]",
      "text/plain": [
       "<Figure size 360x360 with 1 Axes>"
      ]
     },
     "metadata": {},
     "output_type": "display_data"
    }
   ],
   "source": [
    "print(\"Confusion matrix\")\n",
    "sns.set(font_scale=2);\n",
    "\n",
    "fig, ax = plt.subplots(figsize=(5, 5));\n",
    "ax = sns.heatmap(confusion_matrix(y_pred, y_test), annot=True, cbar=False);\n",
    "\n",
    "plt.xlabel(\"Predicted Label\");\n",
    "plt.ylabel(\"True label\");"
   ]
  },
  {
   "cell_type": "code",
   "execution_count": 15,
   "metadata": {},
   "outputs": [
    {
     "name": "stdout",
     "output_type": "stream",
     "text": [
      "Accuracy: 95.45%\n",
      "\n",
      "Micro Precision: 95.45%\n",
      "Micro Recall: 95.45%\n",
      "Micro F1-score: 95.45%\n",
      "\n",
      "Macro Precision: 96.88%\n",
      "Macro Recall: 96.88%\n",
      "Macro F1-score: 96.67%\n",
      "\n",
      "Weighted Precision: 96.02%\n",
      "Weighted Recall: 95.45%\n",
      "Weighted F1-score: 95.45%\n",
      "\n",
      "Classification Report\n",
      "              precision    recall  f1-score   support\n",
      "\n",
      "           1       1.00      0.88      0.93         8\n",
      "           2       1.00      1.00      1.00         3\n",
      "           3       0.88      1.00      0.93         7\n",
      "           4       1.00      1.00      1.00         4\n",
      "\n",
      "    accuracy                           0.95        22\n",
      "   macro avg       0.97      0.97      0.97        22\n",
      "weighted avg       0.96      0.95      0.95        22\n",
      "\n"
     ]
    }
   ],
   "source": [
    "print(f\"Accuracy: {round(accuracy_score(y_test, y_pred)*100, 2)}%\")\n",
    "print()\n",
    "print(f\"Micro Precision: {round(precision_score(y_test, y_pred, average='micro')*100, 2)}%\")\n",
    "print(f\"Micro Recall: {round(recall_score(y_test, y_pred, average='micro')*100, 2)}%\")\n",
    "print(f\"Micro F1-score: {round(f1_score(y_test, y_pred, average='micro')*100, 2)}%\")\n",
    "print()\n",
    "print(f\"Macro Precision: {round(precision_score(y_test, y_pred, average='macro')*100, 2)}%\")\n",
    "print(f\"Macro Recall: {round(recall_score(y_test, y_pred, average='macro')*100, 2)}%\")\n",
    "print(f\"Macro F1-score: {round(f1_score(y_test, y_pred, average='macro')*100, 2)}%\")\n",
    "print()\n",
    "print(f\"Weighted Precision: {round(precision_score(y_test, y_pred, average='weighted')*100, 2)}%\")\n",
    "print(f\"Weighted Recall: {round(recall_score(y_test, y_pred, average='weighted')*100, 2)}%\")\n",
    "print(f\"Weighted F1-score: {round(f1_score(y_test, y_pred, average='weighted')*100, 2)}%\")\n",
    "print()\n",
    "print(\"Classification Report\", classification_report(y_test, y_pred), sep=\"\\n\")"
   ]
  },
  {
   "cell_type": "code",
   "execution_count": 16,
   "metadata": {},
   "outputs": [],
   "source": [
    "vect = CountVectorizer(ngram_range=(2,2))\n",
    "\n",
    "X = vect.fit_transform(X)"
   ]
  },
  {
   "cell_type": "code",
   "execution_count": 17,
   "metadata": {},
   "outputs": [
    {
     "name": "stdout",
     "output_type": "stream",
     "text": [
      "Cross Validation Score: 78.18%\n"
     ]
    }
   ],
   "source": [
    "cv_score = cross_val_score(mnb, X, y, cv=5)\n",
    "print(f\"Cross Validation Score: {round(np.average(cv_score)*100, 2)}%\")"
   ]
  },
  {
   "cell_type": "code",
   "execution_count": 18,
   "metadata": {},
   "outputs": [],
   "source": [
    "import joblib\n",
    "\n",
    "joblib.dump(mnb, \"model\");\n",
    "joblib.dump(vect, \"vectorizer\");"
   ]
  }
 ],
 "metadata": {
  "interpreter": {
   "hash": "e651a207ab8f534b1bcb0ff7e80736a371a475660c22614034f92f2fc911f3b4"
  },
  "kernelspec": {
   "display_name": "Python 3.9.12 ('base')",
   "language": "python",
   "name": "python3"
  },
  "language_info": {
   "codemirror_mode": {
    "name": "ipython",
    "version": 3
   },
   "file_extension": ".py",
   "mimetype": "text/x-python",
   "name": "python",
   "nbconvert_exporter": "python",
   "pygments_lexer": "ipython3",
   "version": "3.9.12"
  },
  "orig_nbformat": 4
 },
 "nbformat": 4,
 "nbformat_minor": 2
}
